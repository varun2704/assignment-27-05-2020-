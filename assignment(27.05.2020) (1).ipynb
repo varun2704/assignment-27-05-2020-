{
 "cells": [
  {
   "cell_type": "code",
   "execution_count": 1,
   "metadata": {},
   "outputs": [
    {
     "name": "stdout",
     "output_type": "stream",
     "text": [
      "* \r\n",
      "* * \r\n",
      "* * * \r\n",
      "* * * * \r\n",
      "* * * * * \r\n"
     ]
    }
   ],
   "source": [
    "for i in range(0,5):\n",
    "    for j in range (0,i+1):\n",
    "        print(\"*\",end=\" \")\n",
    "        \n",
    "    print(\"\\r\")"
   ]
  },
  {
   "cell_type": "code",
   "execution_count": 2,
   "metadata": {},
   "outputs": [
    {
     "name": "stdout",
     "output_type": "stream",
     "text": [
      "enter the value of k7\n",
      "7 * 1 = 7\n",
      "7 * 2 = 14\n",
      "7 * 3 = 21\n",
      "7 * 4 = 28\n",
      "7 * 5 = 35\n",
      "7 * 6 = 42\n",
      "7 * 7 = 49\n",
      "7 * 8 = 56\n",
      "7 * 9 = 63\n",
      "7 * 10 = 70\n"
     ]
    }
   ],
   "source": [
    "k=int(input(\"enter the value of k\"))\n",
    "for i in range(1,11):\n",
    "    mul=k*i;\n",
    "    print(k,end=\" \")\n",
    "    print(\"*\",end=\" \")\n",
    "    print(i,end=\" \")\n",
    "    print(\"=\",end=\" \")\n",
    "    print(k*i)"
   ]
  },
  {
   "cell_type": "code",
   "execution_count": 3,
   "metadata": {},
   "outputs": [
    {
     "name": "stdout",
     "output_type": "stream",
     "text": [
      "enter the value of a1\n",
      "enter the value of b3\n",
      "enter the value of c5\n",
      "(-1.5+1.6583123951777j)\n",
      "(-1.5-1.6583123951777j)\n"
     ]
    }
   ],
   "source": [
    "import cmath\n",
    "a=int(input(\"enter the value of a\" ))\n",
    "b=int(input(\"enter the value of b\" ))\n",
    "c=int(input(\"enter the value of c\" ))\n",
    "bs=b*b\n",
    "fac=4*a*c\n",
    "bsm=bs-fac\n",
    "ta=2*a\n",
    "s=cmath.sqrt(bsm)\n",
    "a1=((-b)+s)/ta\n",
    "a2=((-b)-s)/ta\n",
    "print(a1)\n",
    "print(a2)"
   ]
  },
  {
   "cell_type": "code",
   "execution_count": 4,
   "metadata": {},
   "outputs": [
    {
     "name": "stdout",
     "output_type": "stream",
     "text": [
      "enter n7\n",
      "The decimal value of 7 : 0b111 in binary\n"
     ]
    }
   ],
   "source": [
    "n=int(input(\"enter n\"))\n",
    "print(\"The decimal value of\",n,\":\",bin(n),\"in binary\")\n"
   ]
  },
  {
   "cell_type": "code",
   "execution_count": 5,
   "metadata": {},
   "outputs": [
    {
     "name": "stdout",
     "output_type": "stream",
     "text": [
      "enter n5\n",
      "0\n",
      "1\n",
      "1\n",
      "2\n",
      "3\n"
     ]
    }
   ],
   "source": [
    "n=int(input(\"enter n\"))\n",
    "a=0;\n",
    "b=1;\n",
    "print(a)\n",
    "print(b)\n",
    "for i in range(0,n-2):\n",
    "    c=a+b;\n",
    "    a=b;\n",
    "    b=c;\n",
    "    print(c)"
   ]
  },
  {
   "cell_type": "code",
   "execution_count": null,
   "metadata": {},
   "outputs": [],
   "source": []
  }
 ],
 "metadata": {
  "kernelspec": {
   "display_name": "Python 3",
   "language": "python",
   "name": "python3"
  },
  "language_info": {
   "codemirror_mode": {
    "name": "ipython",
    "version": 3
   },
   "file_extension": ".py",
   "mimetype": "text/x-python",
   "name": "python",
   "nbconvert_exporter": "python",
   "pygments_lexer": "ipython3",
   "version": "3.7.6"
  }
 },
 "nbformat": 4,
 "nbformat_minor": 4
}
